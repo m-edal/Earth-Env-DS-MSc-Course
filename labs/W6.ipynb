{
 "cells": [
  {
   "cell_type": "markdown",
   "metadata": {},
   "source": [
    "# W6: Open Earth and Environmental Data\n",
    "- Contributer: Dr. Zhonghua Zheng, Yuan Sun\n",
    "- Course Unit: Earth and Environmental Data Science (EART60702)\n",
    "- Last modified date: 1 March, 2024"
   ]
  },
  {
   "cell_type": "markdown",
   "metadata": {},
   "source": [
    "## Intended Learning Outcomes (ILOs)\n",
    "- CMIP6 Data: Apply the steps to access and retrieve CMIP6 data, facilitating the integration of Earth system model simulations into environmental analysis (~20 mins).\n",
    "- ERA5 Data: Demonstrate the ability to access ERA5 data, incorporating these datasets into climate studies to enhance the understanding of atmospheric dynamics (~20 mins).\n",
    "- GEE and geemap: Execute basic operations on the Google Earth Engine (GEE) platform and the geemap Python package to analyze and visualize environmental data."
   ]
  },
  {
   "cell_type": "markdown",
   "metadata": {},
   "source": [
    "## 0. Setup"
   ]
  },
  {
   "cell_type": "markdown",
   "metadata": {},
   "source": [
    "### 0.1 Please use bash commands to launch JupyterLab\n",
    "```bash\n",
    "# check if conda works in your local PC\n",
    "conda --version\n",
    "# load the environment that you created last week\n",
    "conda activate myenv\n",
    "# launch JupyterLab\n",
    "jupyter lab\n",
    "```"
   ]
  },
  {
   "cell_type": "markdown",
   "metadata": {},
   "source": [
    "### 0.2 Please load the necessary Python packages"
   ]
  },
  {
   "cell_type": "code",
   "execution_count": null,
   "metadata": {},
   "outputs": [],
   "source": [
    "!conda --version\n",
    "\n",
    "from matplotlib import pyplot as plt\n",
    "import numpy as np\n",
    "import pandas as pd\n",
    "import xarray as xr\n",
    "import zarr \n",
    "import gcsfs\n",
    "import cdsapi\n",
    "import climetlab as cml\n",
    "\n",
    "xr.set_options(display_style='html')\n",
    "%matplotlib inline\n",
    "%config InlineBackend.figure_format = 'retina' "
   ]
  },
  {
   "cell_type": "markdown",
   "metadata": {},
   "source": [
    "### **NOTE: If your local environment doesn't work, please run the code below to install necessary packages in Google Colab: https://colab.research.google.com/**\n",
    "```python\n",
    "# https://saturncloud.io/blog/how-to-install-conda-package-to-google-colab/\n",
    "!pip install -q condacolab\n",
    "import condacolab\n",
    "condacolab.install()\n",
    "\n",
    "# check if condacolab works\n",
    "!conda --version\n",
    "\n",
    "# please install packages below in your condacolab\n",
    "!pip install --upgrade xarray zarr gcsfs cftime nc-time-axis climetlab\n",
    "```"
   ]
  },
  {
   "cell_type": "markdown",
   "metadata": {},
   "source": [
    "## 1. CMIP6 Data (20 mins)\n",
    "- World Climate Research Programme (WCRP) Coupled Model Intercomparison Project (CMIP): https://www.wcrp-climate.org/wgcm-cmip\n",
    "  > The objective of the Coupled Model Intercomparison Project (CMIP) is to better understand past, present and future climate changes arising from natural, unforced variability or in response to changes in radiative forcing in a multi-model context.\n",
    "- The Google Cloud CMIP6 data are derived from the original CMIP6 data files, as distributed via the Earth System Grid Federation (ESGF): https://console.cloud.google.com/marketplace/product/noaa-public/cmip6\n",
    "- A beginners' guide to these terms is available in this document: https://docs.google.com/document/d/1yUx6jr9EdedCOLd--CPdTfGDwEwzPpCF6p1jRmqx-0Q\n",
    "- Consistent with the CMIP6 terms of use, some modifications have been made to render the data more analysis-ready, including concatenation of time slices and conversion from netCDF to Zarr: https://zarr.readthedocs.io/en/stable/\n",
    "  > Zarr is a file storage format for chunked, compressed, N-dimensional arrays based on an open-source specification."
   ]
  },
  {
   "cell_type": "markdown",
   "metadata": {},
   "source": [
    "### 1.1 query the data catalogue"
   ]
  },
  {
   "cell_type": "code",
   "execution_count": null,
   "metadata": {},
   "outputs": [],
   "source": [
    "# The data catalogue is stored as a CSV file. Here we read it with pandas.\n",
    "df = pd.read_csv('https://storage.googleapis.com/cmip6/cmip6-zarr-consolidated-stores.csv')\n",
    "df.head()"
   ]
  },
  {
   "cell_type": "code",
   "execution_count": null,
   "metadata": {},
   "outputs": [],
   "source": [
    "df_tas = df.query(\"activity_id=='CMIP' & institution_id=='NCAR' & experiment_id=='historical' & table_id=='Amon' & variable_id=='tas'\")\n",
    "df_tas"
   ]
  },
  {
   "cell_type": "markdown",
   "metadata": {},
   "source": [
    "### Qestion 1.1: \n",
    "- **based on the current `df_tas`, please create a `df_tas_CESM` with `CESM2` as the `source_id`, and `r1i1p1f1` as the `member_id`**\n",
    "- 'tas' refers to Near-Surface Air Temperature [K]. \n",
    "- More information about CMIP variables: https://docs.google.com/spreadsheets/d/1UUtoz6Ofyjlpx5LdqhKcwHFz2SGoTQV2_yekHyMfL9Y/edit#gid=1221485271"
   ]
  },
  {
   "cell_type": "markdown",
   "metadata": {},
   "source": [
    "### 1.2 load the data from Cloud"
   ]
  },
  {
   "cell_type": "code",
   "execution_count": null,
   "metadata": {},
   "outputs": [],
   "source": [
    "# load data using gcsfs, zarr, and xarray\n",
    "# Google Cloud Storage (GCS) Authentication. this only needs to be created once\n",
    "gcs = gcsfs.GCSFileSystem(token='anon') # use an anonymous token\n",
    "\n",
    "# get the path to a specific zarr store (the first one from the dataframe above)\n",
    "zstore = df_tas_CESM.zstore.values[-1] # retrieves the path from the last entry of the 'zstore' column \n",
    "\n",
    "# create a mutable-mapping-style interface to the store\n",
    "mapper = gcs.get_mapper(zstore)\n",
    "\n",
    "# open it using xarray and zarr\n",
    "ds = xr.open_zarr(mapper, consolidated=True)\n",
    "ds"
   ]
  },
  {
   "cell_type": "code",
   "execution_count": null,
   "metadata": {},
   "outputs": [],
   "source": [
    "# Plot a map from a specific date.\n",
    "ds.tas.sel(time='2012-12-15').squeeze().plot()"
   ]
  },
  {
   "cell_type": "markdown",
   "metadata": {},
   "source": [
    "### Question 1.2: \n",
    "- **What were the mean temperatures in Manchester (53.48° N, 2.24° W) and London (51.51° N, 0.13° W)?** \n",
    "- Please use `time = slice('2012-01', '2012-12')` for calculating the mean value\n",
    "- Hints: https://docs.xarray.dev/en/latest/user-guide/indexing.html"
   ]
  },
  {
   "cell_type": "markdown",
   "metadata": {},
   "source": [
    "### Question 1.3: \n",
    "- **What were the mean temperatures in Manchester (53.48° N, 2.24° W) and London (51.51° N, 0.13° W) for `CESM2-WACCM` and `r1i1p1f1`?**\n",
    "- Please use time = slice('2012-01', '2012-12') for calculating the mean value\n",
    "- Hints: https://docs.xarray.dev/en/latest/user-guide/indexing.html"
   ]
  },
  {
   "cell_type": "markdown",
   "metadata": {},
   "source": [
    "## 2. ERA5 data (20 mins)"
   ]
  },
  {
   "cell_type": "markdown",
   "metadata": {},
   "source": [
    "- Reanalysis: https://www.ecmwf.int/en/about/media-centre/focus/2023/fact-sheet-reanalysis\n",
    "- ERA5 is the fifth generation ECMWF atmospheric reanalysis of the global climate covering the period from January 1940 to present. ERA5 is produced by the Copernicus Climate Change Service (C3S) at ECMWF: https://www.ecmwf.int/en/forecasts/dataset/ecmwf-reanalysis-v5\n",
    "- C3S Climate Data Store: https://cds.climate.copernicus.eu/#!/home\n",
    "- ERA5 data documentation: https://confluence.ecmwf.int/display/CKB/ERA5%3A+data+documentation\n",
    "- ERA5 data is also available at Google Earth Engine: https://developers.google.com/earth-engine/datasets/catalog/ECMWF_ERA5_DAILY#colab-python\n",
    "\n",
    "**Task: Please get the \"2 metre temperature\" for Manchester (53.48° N, 2.24° W) on 2012-12-12 at 12:00**"
   ]
  },
  {
   "cell_type": "markdown",
   "metadata": {},
   "source": [
    "### Recommend\n",
    "- via official api\n",
    ">**Note**: Set up first. You can find `url` and `key (API token)` at https://cds.climate.copernicus.eu/ (Click the `Your profile` at the top right corner).  \n",
    "Or follow the instruction of CDSAPI setup step by step: https://cds.climate.copernicus.eu/how-to-api.\n",
    "\n",
    "### Option 1\n",
    "- via ECMWF's CliMetLab: https://climetlab.readthedocs.io/en/latest/examples/03-source-cds.html\n",
    "\n",
    "### Option 2\n",
    "- via Google Cloud: https://cloud.google.com/storage/docs/public-datasets/era5\n",
    "\n",
    "### Option 3\n",
    "- via GEE: https://developers.google.com/earth-engine/datasets/catalog/ECMWF_ERA5_DAILY#colab-python\n",
    "\n",
    "### Option 4\n",
    "- via AWS: https://registry.opendata.aws/ecmwf-era5/\n",
    "\n",
    "### Option 5\n",
    "- via NCAR Research Data Archive: https://rda.ucar.edu/dssearch/?words=era5\n",
    "\n",
    "### Option X\n",
    "- ..."
   ]
  },
  {
   "cell_type": "code",
   "execution_count": null,
   "metadata": {},
   "outputs": [],
   "source": [
    "c = cdsapi.Client()\n",
    "c.retrieve(\n",
    "    'reanalysis-era5-single-levels',\n",
    "    {\n",
    "        'variable': '2t',\n",
    "        'product_type': 'reanalysis',\n",
    "        'area': [53.5, -2.3, 53.4, -2.2],\n",
    "        'date': '2012-12-12',\n",
    "        'time': '12:00',\n",
    "        'format': 'netcdf',\n",
    "    },\n",
    "    'download.nc'\n",
    ")"
   ]
  },
  {
   "cell_type": "markdown",
   "metadata": {},
   "source": [
    "## 3. Google Earth Engine and geemap\n",
    "- Please complete the tutorial: Introduction to Google Earth Engine: https://www.google.com/earth/outreach/learn/introduction-to-google-earth-engine/\n",
    "- Please select and complete the tutorial(s) that you are interested in: https://geemap.org/tutorials/#geemap-tutorials"
   ]
  },
  {
   "cell_type": "code",
   "execution_count": null,
   "metadata": {},
   "outputs": [],
   "source": []
  },
  {
   "cell_type": "markdown",
   "metadata": {},
   "source": [
    "## 4. Data for Project 2 (reproducible research)\n",
    "Please download the data here: https://www.dropbox.com/scl/fo/dmabz9pf3167l62612h5b/h?rlkey=ge8u486w7w7vq8vnpr2f1fvag&dl=0"
   ]
  },
  {
   "cell_type": "code",
   "execution_count": null,
   "metadata": {},
   "outputs": [],
   "source": [
    "ds = xr.open_dataset(\"~/Downloads/008_2006_2080_352_360.nc\")\n",
    "ds[\"TREFMXAV_U\"].mean(dim=[\"time\"]).plot()"
   ]
  },
  {
   "cell_type": "code",
   "execution_count": null,
   "metadata": {},
   "outputs": [],
   "source": []
  }
 ],
 "metadata": {
  "kernelspec": {
   "display_name": "Python 3 (ipykernel)",
   "language": "python",
   "name": "python3"
  },
  "language_info": {
   "codemirror_mode": {
    "name": "ipython",
    "version": 3
   },
   "file_extension": ".py",
   "mimetype": "text/x-python",
   "name": "python",
   "nbconvert_exporter": "python",
   "pygments_lexer": "ipython3",
   "version": "3.9.18"
  }
 },
 "nbformat": 4,
 "nbformat_minor": 4
}

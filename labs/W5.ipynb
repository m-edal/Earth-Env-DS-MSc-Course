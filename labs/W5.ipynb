{
 "cells": [
  {
   "cell_type": "markdown",
   "metadata": {},
   "source": [
    "# W5: Unix, Managing Python environment, Git\n",
    "- Contributer: Dr. Zhonghua Zheng, Yuan Sun\n",
    "- Course Unit: Earth and Environmental Data Science (EART60702)\n",
    "- Last modified date: 21 February, 2024"
   ]
  },
  {
   "cell_type": "markdown",
   "metadata": {},
   "source": [
    "## Intended Learning Outcomes (ILOs)\n",
    "- Unix: Learn to navigate the Unix shell environment, understanding bash commands and concepts such as file system organization and file permissions.\n",
    "- Managing Python environment: Develop expertise in managing Python environments, such as mastering the creation, management, and utilization of isolated Python environments to ensure project-specific dependencies are met, promoting reproducibility and efficiency in Python projects.\n",
    "- Git: Apply Git commands and workflows, such as branching and merging, emphasizing their role in collaborative development."
   ]
  },
  {
   "cell_type": "markdown",
   "metadata": {},
   "source": [
    "## 1. Unix (15 mins)\n",
    "- Unix Shell tutorial: https://swcarpentry.github.io/shell-novice/\n",
    "- Unix-like operating systems are often used on servers as well as on personal computers and other devices.\n",
    "- Using an exclamation mark (!) before the command will pass the command to the shell (not to the Python interpreter)"
   ]
  },
  {
   "cell_type": "markdown",
   "metadata": {},
   "source": [
    "### 1.1 basic commands"
   ]
  },
  {
   "cell_type": "code",
   "execution_count": null,
   "metadata": {},
   "outputs": [],
   "source": [
    "# List directory contents. It shows the files and directories in the current directory.\n",
    "!ls\n",
    "\n",
    "!ls -al"
   ]
  },
  {
   "cell_type": "code",
   "execution_count": null,
   "metadata": {},
   "outputs": [],
   "source": [
    "# Change directory. It allows you to move between directories.\n",
    "!cd directory_name\n",
    "\n",
    "# move to parent directory\n",
    "!cd ..\n",
    "\n",
    "# move to home directory\n",
    "!cd ~"
   ]
  },
  {
   "cell_type": "code",
   "execution_count": null,
   "metadata": {},
   "outputs": [],
   "source": [
    "# Print working directory. It displays the current directory path.\n",
    "!pwd"
   ]
  },
  {
   "cell_type": "code",
   "execution_count": null,
   "metadata": {},
   "outputs": [],
   "source": [
    "# Make directory. It creates a new directory.\n",
    "!mkdir directory_name"
   ]
  },
  {
   "cell_type": "code",
   "execution_count": null,
   "metadata": {},
   "outputs": [],
   "source": [
    "# Create empty file(s) or update timestamp of existing file(s).\n",
    "!touch file_name\n",
    "\n",
    "!touch file1 file2 file3\n",
    "\n",
    "!touch file1.txt file2.sh #specify file format"
   ]
  },
  {
   "cell_type": "code",
   "execution_count": null,
   "metadata": {},
   "outputs": [],
   "source": [
    "# Remove. It deletes files or directories.\n",
    "!rm file_name\n",
    "\n",
    "# Remove the folder\n",
    "!rmdir directory_name\n",
    "\n",
    "# recursively delete directory\n",
    "!rm -r directory_name"
   ]
  },
  {
   "cell_type": "code",
   "execution_count": null,
   "metadata": {},
   "outputs": [],
   "source": [
    "# Move. It moves files or directories.\n",
    "!mv source_file destination_file\n",
    "\n",
    "!mv source_directory destination_directory\n",
    "\n",
    "# Rename the file\n",
    "!mv file1.txt newfile.txt"
   ]
  },
  {
   "cell_type": "code",
   "execution_count": null,
   "metadata": {},
   "outputs": [],
   "source": [
    "# Copy. It copies files or directories.\n",
    "!cp source_file destination_file\n",
    "\n",
    "# Recursively copy directory\n",
    "!cp -r source_directory destination_directory"
   ]
  },
  {
   "cell_type": "code",
   "execution_count": null,
   "metadata": {},
   "outputs": [],
   "source": [
    "# Concatenate and display files. It displays the content of one or more files.\n",
    "!cat file_name"
   ]
  },
  {
   "cell_type": "code",
   "execution_count": null,
   "metadata": {},
   "outputs": [],
   "source": [
    "# Global regular expression print. It searches for patterns in files.\n",
    "!grep pattern file_name\n",
    "\n",
    "# Recursively search directory\n",
    "!grep -r pattern directory_name"
   ]
  },
  {
   "cell_type": "code",
   "execution_count": null,
   "metadata": {},
   "outputs": [],
   "source": [
    "# Display the first part of a file.\n",
    "!head file_name\n",
    "\n",
    "# Display first 10 lines\n",
    "!head -n 10 file_name"
   ]
  },
  {
   "cell_type": "code",
   "execution_count": null,
   "metadata": {},
   "outputs": [],
   "source": [
    "# Display the last part of a file.\n",
    "!tail file_name\n",
    "\n",
    "!tail -n 10 file_name"
   ]
  },
  {
   "cell_type": "code",
   "execution_count": null,
   "metadata": {},
   "outputs": [],
   "source": [
    "# Change file permissions.\n",
    "!chmod permissions file_name"
   ]
  },
  {
   "cell_type": "code",
   "execution_count": null,
   "metadata": {},
   "outputs": [],
   "source": [
    "# Change file owner and group.\n",
    "!chown owner:group file_name"
   ]
  },
  {
   "cell_type": "code",
   "execution_count": null,
   "metadata": {},
   "outputs": [],
   "source": [
    "# Manual pages. It displays the manual pages for commands.\n",
    "!man command_name"
   ]
  },
  {
   "cell_type": "markdown",
   "metadata": {},
   "source": [
    "### 1.2 Questions"
   ]
  },
  {
   "cell_type": "markdown",
   "metadata": {},
   "source": [
    "Q1: please try commands above in your directory.\n",
    "- create a folder named 'W5'\n",
    "- create two files within the folder: 'W5_f1', 'W5_f2' \n",
    "- rename the 'W5_f1' as 'W5_f3'\n",
    "- remove the file 'W5_f2' "
   ]
  },
  {
   "cell_type": "markdown",
   "metadata": {},
   "source": [
    "## 2. Managing Python environment (25 mins)\n",
    "- Conda is a powerful command line tool for package and environment management that runs on Windows, macOS, and Linux: https://conda.io/projects/conda/en/latest/user-guide/getting-started.html\n",
    "- You may search \"conda cheat sheet\""
   ]
  },
  {
   "cell_type": "code",
   "execution_count": null,
   "metadata": {},
   "outputs": [],
   "source": [
    "# install miniconda in your local PC (recommended)\n",
    "# ref: https://docs.anaconda.com/free/miniconda/\n",
    "\n",
    "# install anaconda in your local PC\n",
    "# ref: https://docs.anaconda.com/free/anaconda/install/"
   ]
  },
  {
   "cell_type": "markdown",
   "metadata": {},
   "source": [
    "### 2.1 conda commands"
   ]
  },
  {
   "cell_type": "markdown",
   "metadata": {},
   "source": [
    "```bash\n",
    "# creat a new environment\n",
    "# Replace myenv with the name you want to give to your environment\n",
    "conda create -n myenv  \n",
    "\n",
    "# specify the Python version you want to use\n",
    "conda create -n myenv python=3.11 \n",
    "\n",
    "# remove a conda environment\n",
    "conda env remove -n myenv\n",
    "```"
   ]
  },
  {
   "cell_type": "markdown",
   "metadata": {},
   "source": [
    "```bash\n",
    "# check conda version\n",
    "conda --version\n",
    "\n",
    "# check conda installation directory\n",
    "conda info --base\n",
    "\n",
    "# check existing conda environment \n",
    "conda env list\n",
    "```"
   ]
  },
  {
   "cell_type": "markdown",
   "metadata": {},
   "source": [
    "```bash\n",
    "# Activate the environment\n",
    "# windows\n",
    "conda activate myenv\n",
    "\n",
    "# Sometimes you need to run the following command \n",
    "# for macOS and Linux to activate\n",
    "source activate myenv\n",
    "\n",
    "# If you want to deactivate the environment\n",
    "conda deactivate\n",
    "```"
   ]
  },
  {
   "cell_type": "markdown",
   "metadata": {},
   "source": [
    "```bash\n",
    "# install package\n",
    "conda activate myenv\n",
    "conda install -c conda-forge jupyterlab xarray matplotlib -y\n",
    "pip install --upgrade zarr gcsfs cftime nc-time-axis\n",
    "\n",
    "# check if numpy is exsiting within the environment\n",
    "conda list -n myenv | grep numpy\n",
    "\n",
    "# generate 'environment.yml' from an existing conda\n",
    "conda activate myenv\n",
    "conda env export > environment.yml\n",
    "```"
   ]
  },
  {
   "cell_type": "code",
   "execution_count": null,
   "metadata": {},
   "outputs": [],
   "source": [
    "# run code below to ensure conda environment works in the following lab tasks\n",
    "from matplotlib import pyplot as plt\n",
    "import numpy as np\n",
    "import pandas as pd\n",
    "import xarray as xr\n",
    "import zarr \n",
    "import gcsfs\n",
    "xr.set_options(display_style='html')\n",
    "%matplotlib inline\n",
    "%config InlineBackend.figure_format = 'retina' \n",
    "df = pd.read_csv('https://storage.googleapis.com/cmip6/cmip6-zarr-consolidated-stores.csv')\n",
    "df_ta=df.query(\"activity_id=='CMIP' & table_id == 'Amon' & variable_id == 'tas' & experiment_id == 'historical'\")\n",
    "df_ta_ncar = df_ta.query('institution_id == \"NCAR\"')\n",
    "gcs = gcsfs.GCSFileSystem(token='anon')\n",
    "zstore = df_ta_ncar.zstore.values[-1]\n",
    "mapper = gcs.get_mapper(zstore)\n",
    "ds = xr.open_zarr(mapper, consolidated=True)\n",
    "ds"
   ]
  },
  {
   "cell_type": "markdown",
   "metadata": {},
   "source": [
    "### 2.2 Questions"
   ]
  },
  {
   "cell_type": "markdown",
   "metadata": {},
   "source": [
    "Q1: Please install package(s) in your conda environment, so that you can run the code below\n",
    "\n",
    "**Note**: Please press `ENTER` when you see `API url`, and then type \"UID:API Key\" when you see `API key`\n",
    "\n",
    "You can find your `UID` and `API key` at https://cds.climate.copernicus.eu/ (User profile)\n",
    "\n",
    "Or via: https://cds.climate.copernicus.eu/api-how-to\n",
    "\n",
    "``` python\n",
    "import climetlab as cml\n",
    "source = cml.load_source(\n",
    "    \"cds\",\n",
    "    \"reanalysis-era5-single-levels\",\n",
    "    variable=[\"2t\", \"msl\"],\n",
    "    product_type=\"reanalysis\",\n",
    "    area=[50, -50, 20, 50],\n",
    "    date=\"2012-12-12\",\n",
    "    time=\"12:00\",\n",
    ")\n",
    "for s in source:\n",
    "    cml.plot_map(s)\n",
    "```\n",
    "\n",
    "Q2: Please install package(s) in a new conda environment, so that you can run \n",
    "``` python\n",
    "import intake\n",
    "import intake_esm\n",
    "url = intake_esm.tutorial.get_url('google_cmip6')\n",
    "print(url)\n",
    "cat = intake.open_esm_datastore(url)\n",
    "cat\n",
    "```\n",
    "\n",
    "Q3: Please install package(s) in a new conda environment, so that you can run \n",
    "https://geemap.org/notebooks/35_geemap_colab/\n",
    "\n",
    "Q4: Please use an 'environment.yml' file to install a new conda environment."
   ]
  },
  {
   "cell_type": "markdown",
   "metadata": {},
   "source": [
    "### Note:"
   ]
  },
  {
   "cell_type": "code",
   "execution_count": null,
   "metadata": {},
   "outputs": [],
   "source": [
    "# alternatively, you can install Conda to Google Colab\n",
    "!pip install -q condacolab\n",
    "import condacolab\n",
    "condacolab.install()"
   ]
  },
  {
   "cell_type": "markdown",
   "metadata": {},
   "source": [
    "## 3. Git (15mins)\n",
    "- Learn Git: https://www.atlassian.com/git/glossary#commands and https://github.com/git-guides\n",
    "- Learn Github: https://docs.github.com/en/get-started/start-your-journey/hello-world"
   ]
  },
  {
   "cell_type": "markdown",
   "metadata": {
    "jp-MarkdownHeadingCollapsed": true
   },
   "source": [
    "### 3.1 Git commands\n",
    "\n",
    "```bash\n",
    "# Initialize a new Git repository in the current directory.\n",
    "git init\n",
    "\n",
    "# Clone a repository from a remote URL to your local machine.\n",
    "git clone <repository_url>\n",
    "\n",
    "# Stage changes for commit. Adds the specified file to the staging area\n",
    "git add <file_name>\n",
    "\n",
    "# Stage all changes for commit. Adds all modified and new files to the staging area\n",
    "git add\n",
    "\n",
    "git add --all\n",
    "\n",
    "# Checkout the branch you want to merge into\n",
    "git checkout main\n",
    "\n",
    "# Commit staged changes with a descriptive message\n",
    "git commit -m \"Commit message\"\n",
    "\n",
    "# Show the status of the working directory and the staging area. Lists changes that are not yet staged.\n",
    "git status\n",
    "\n",
    "# Show changes between the working directory and the staging area.\n",
    "git diff\n",
    "\n",
    "# Show changes between the staging area and the last commit\n",
    "git diff --staged\n",
    "\n",
    "# Show commit history. Lists commits in reverse chronological order.\n",
    "git log\n",
    "\n",
    "# Push commits from the local repository to the remote repository.\n",
    "git push\n",
    "\n",
    "# Fetch changes from the remote repository and merge them into the local branch\n",
    "git pull\n",
    "\n",
    "# create a new branch\n",
    "git branch new_branch_name\n",
    "\n",
    "# switch to the new branch\n",
    "git checkout new_branch_name\n",
    "# or\n",
    "git switch new_branch_name\n",
    "```"
   ]
  },
  {
   "cell_type": "markdown",
   "metadata": {},
   "source": [
    "### 3.2 Questions"
   ]
  },
  {
   "cell_type": "markdown",
   "metadata": {},
   "source": [
    "- Q1: Please practise commands above using your repository (e.g., Project 1): create a new branch from the main and modify something in the new branch.\n",
    "  \n",
    "- Q2: Share your Git repo with classmates and try pull request.\n",
    "  \n",
    "- Q3: Complete the tutorial here: https://docs.github.com/en/get-started/start-your-journey/hello-world\n",
    "  \n",
    "- Q4: Have a try about GitHub Desktop: https://docs.github.com/en/desktop/overview/getting-started-with-github-desktop"
   ]
  },
  {
   "cell_type": "markdown",
   "metadata": {},
   "source": [
    "## 4. Data for Project 2 (reproducible research)\n",
    "\n",
    "Please download the data here: https://www.dropbox.com/scl/fo/dmabz9pf3167l62612h5b/h?rlkey=ge8u486w7w7vq8vnpr2f1fvag&dl=0"
   ]
  },
  {
   "cell_type": "code",
   "execution_count": null,
   "metadata": {},
   "outputs": [],
   "source": [
    "ds = xr.open_dataset(\"~/Downloads/008_2006_2080_352_360.nc\")\n",
    "ds[\"TREFMXAV_U\"].mean(dim=[\"time\"]).plot()"
   ]
  }
 ],
 "metadata": {
  "kernelspec": {
   "display_name": "Python 3 (ipykernel)",
   "language": "python",
   "name": "python3"
  },
  "language_info": {
   "codemirror_mode": {
    "name": "ipython",
    "version": 3
   },
   "file_extension": ".py",
   "mimetype": "text/x-python",
   "name": "python",
   "nbconvert_exporter": "python",
   "pygments_lexer": "ipython3",
   "version": "3.11.8"
  }
 },
 "nbformat": 4,
 "nbformat_minor": 4
}
